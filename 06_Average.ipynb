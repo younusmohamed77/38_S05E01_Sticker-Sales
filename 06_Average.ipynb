{
 "cells": [
  {
   "cell_type": "code",
   "execution_count": 1,
   "id": "8c8fd7df-30b9-4b85-a75c-f84d16634403",
   "metadata": {},
   "outputs": [],
   "source": [
    "import pandas as pd\n",
    "import numpy as np"
   ]
  },
  {
   "cell_type": "code",
   "execution_count": 4,
   "id": "de714bb4-0847-4f8d-964b-29dadedcc94f",
   "metadata": {},
   "outputs": [],
   "source": [
    "# List of file paths for top 5 and top 3 models\n",
    "top_5_files = [\n",
    "    \"submission_Random Forest_None_label_standard_False.csv\",\n",
    "    \"submission_Random Forest_None_onehot_standard_False.csv\",\n",
    "    \"submission_Random Forest_None_label_minmax_False.csv\",\n",
    "    \"submission_Random Forest_mean_onehot_minmax_False.csv\",\n",
    "    \"submission_XGBoost_None_onehot_minmax_False.csv\"\n",
    "]\n",
    "\n",
    "top_3_files = [\n",
    "    \"submission_Random Forest_None_label_standard_False.csv\",\n",
    "    \"submission_Random Forest_None_onehot_standard_False.csv\",\n",
    "    \"submission_Random Forest_None_label_minmax_False.csv\"\n",
    "]"
   ]
  },
  {
   "cell_type": "code",
   "execution_count": 3,
   "id": "1093bd84-075f-40e3-b2c7-fd2046a54f9a",
   "metadata": {},
   "outputs": [],
   "source": [
    "# Function to create averaged submission from a list of files\n",
    "def create_submission_from_files(file_list, output_filename, submission_template):\n",
    "    # Initialize an array to hold the predictions\n",
    "    predictions_list = []\n",
    "\n",
    "    # Read the predictions from the given files\n",
    "    for file in file_list:\n",
    "        submission_df = pd.read_csv(file)\n",
    "        predictions_list.append(submission_df['num_sold'].values)\n",
    "\n",
    "    # Calculate the average predictions\n",
    "    average_predictions = np.mean(predictions_list, axis=0)\n",
    "\n",
    "    # Create a new submission DataFrame\n",
    "    submission_template['num_sold'] = average_predictions\n",
    "\n",
    "    # Save the averaged submission to a new CSV file\n",
    "    submission_template.to_csv(output_filename, index=False)\n",
    "\n",
    "    print(f\"Averaged submission file created: {output_filename}\")"
   ]
  },
  {
   "cell_type": "code",
   "execution_count": 5,
   "id": "6231103f-d978-46da-9267-84726ca2bdd8",
   "metadata": {},
   "outputs": [
    {
     "name": "stdout",
     "output_type": "stream",
     "text": [
      "Averaged submission file created: submission_average_top5.csv\n",
      "Averaged submission file created: submission_average_top3.csv\n"
     ]
    }
   ],
   "source": [
    "# Load the submission template\n",
    "submission_template = pd.read_csv(\"sample_submission.csv\")\n",
    "\n",
    "# Create submission for top 5 models\n",
    "create_submission_from_files(top_5_files, \"submission_average_top5.csv\", submission_template)\n",
    "\n",
    "# Create submission for top 3 models\n",
    "create_submission_from_files(top_3_files, \"submission_average_top3.csv\", submission_template)"
   ]
  },
  {
   "cell_type": "code",
   "execution_count": 6,
   "id": "d238c322-48d8-490c-94a7-9983084d6d49",
   "metadata": {},
   "outputs": [],
   "source": [
    "top_4_files = [\n",
    "    \"submission_Random Forest_None_label_standard_False.csv\",\n",
    "    \"submission_Random Forest_None_onehot_standard_False.csv\",\n",
    "    \"submission_Random Forest_None_label_minmax_False.csv\",\n",
    "    \"submission_Random Forest_mean_onehot_minmax_False.csv\"\n",
    "]"
   ]
  },
  {
   "cell_type": "code",
   "execution_count": 7,
   "id": "825b9e92-f3e9-4ab6-857d-78dd0466a0d3",
   "metadata": {},
   "outputs": [
    {
     "name": "stdout",
     "output_type": "stream",
     "text": [
      "Averaged submission file created: submission_average_top4.csv\n"
     ]
    }
   ],
   "source": [
    "# Create submission for top 4 models\n",
    "create_submission_from_files(top_4_files, \"submission_average_top4.csv\", submission_template)"
   ]
  },
  {
   "cell_type": "code",
   "execution_count": 8,
   "id": "93ba0eb6-700a-4e3f-a78c-63c61fb745d0",
   "metadata": {},
   "outputs": [],
   "source": [
    "other_4_files = [\n",
    "    \"submission_Random Forest_None_label_standard_False.csv\",\n",
    "    \"submission_Random Forest_None_onehot_standard_False.csv\",\n",
    "    \"submission_Random Forest_None_label_minmax_False.csv\",\n",
    "    \"submission_XGBoost_None_onehot_minmax_False.csv\"\n",
    "]"
   ]
  },
  {
   "cell_type": "code",
   "execution_count": null,
   "id": "13fe0e5c-f0f3-4029-921e-295d8f5a95d8",
   "metadata": {},
   "outputs": [],
   "source": [
    "create_submission_from_files(other_4_files, \"submission_average_top4.csv\", submission_template)"
   ]
  },
  {
   "cell_type": "code",
   "execution_count": 5,
   "id": "5d900739-9d0e-4439-bdb8-1893f5b23a3b",
   "metadata": {},
   "outputs": [
    {
     "name": "stdout",
     "output_type": "stream",
     "text": [
      "Averaged submission file created: submission_average_other3.csv\n"
     ]
    }
   ],
   "source": [
    "other_3_files = [\n",
    "    \"submission_None_label_standard_True.csv\",\n",
    "    \"submission_kaggle.csv\",\n",
    "    \"submission_None_onehot_standard_True.csv\"\n",
    "]\n",
    "\n",
    "# Load the submission template\n",
    "submission_template = pd.read_csv(\"sample_submission.csv\")\n",
    "\n",
    "# Create submission for top 3 submissions - 08-01-2025\n",
    "create_submission_from_files(other_3_files, \"submission_average_other3.csv\", submission_template)"
   ]
  },
  {
   "cell_type": "code",
   "execution_count": null,
   "id": "a5e31965-9a92-45a6-af6b-d1b0b8c502c4",
   "metadata": {},
   "outputs": [],
   "source": []
  }
 ],
 "metadata": {
  "kernelspec": {
   "display_name": "Python 3 (ipykernel)",
   "language": "python",
   "name": "python3"
  },
  "language_info": {
   "codemirror_mode": {
    "name": "ipython",
    "version": 3
   },
   "file_extension": ".py",
   "mimetype": "text/x-python",
   "name": "python",
   "nbconvert_exporter": "python",
   "pygments_lexer": "ipython3",
   "version": "3.8.19"
  }
 },
 "nbformat": 4,
 "nbformat_minor": 5
}
